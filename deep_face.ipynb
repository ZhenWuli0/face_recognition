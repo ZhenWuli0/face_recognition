{
 "cells": [
  {
   "cell_type": "code",
   "execution_count": 3,
   "metadata": {
    "collapsed": false
   },
   "outputs": [
   ],
   "source": [
    "# install deepfacve\n",
    "# pip install deepface"
   ]
  },
  {
   "cell_type": "code",
   "execution_count": 4,
   "metadata": {
    "collapsed": false
   },
   "outputs": [
   ],
   "source": [
    "# install required tensorflow\n",
    "# !pip install tf-keras"
   ]
  },
  {
   "cell_type": "code",
   "execution_count": 5,
   "metadata": {
    "collapsed": false
   },
   "outputs": [
    {
     "name": "stderr",
     "output_type": "stream",
     "text": [
      "2024-06-07 21:28:09.954478: I tensorflow/core/util/port.cc:113] oneDNN custom operations are on. You may see slightly different numerical results due to floating-point round-off errors from different computation orders. To turn them off, set the environment variable `TF_ENABLE_ONEDNN_OPTS=0`.\n",
      "2024-06-07 21:28:10.685585: I tensorflow/core/platform/cpu_feature_guard.cc:210] This TensorFlow binary is optimized to use available CPU instructions in performance-critical operations.\n",
      "To enable the following instructions: AVX2 AVX512F AVX512_VNNI FMA, in other operations, rebuild TensorFlow with the appropriate compiler flags.\n"
     ]
    },
    {
     "name": "stderr",
     "output_type": "stream",
     "text": [
      "2024-06-07 21:28:18.230794: W tensorflow/compiler/tf2tensorrt/utils/py_utils.cc:38] TF-TRT Warning: Could not find TensorRT\n"
     ]
    }
   ],
   "source": [
    "# import DeepFace\n",
    "from deepface import DeepFace"
   ]
  },
  {
   "cell_type": "code",
   "execution_count": 6,
   "metadata": {
    "collapsed": false
   },
   "outputs": [
    {
     "name": "stderr",
     "output_type": "stream",
     "text": [
      "Lossy conversion from float32 to uint8. Range [0, 1]. Convert image to uint8 prior to saving to suppress this warning.\n"
     ]
    },
    {
     "name": "stderr",
     "output_type": "stream",
     "text": [
      "Lossy conversion from float32 to uint8. Range [0, 1]. Convert image to uint8 prior to saving to suppress this warning.\n"
     ]
    },
    {
     "name": "stderr",
     "output_type": "stream",
     "text": [
      "Lossy conversion from float32 to uint8. Range [0, 1]. Convert image to uint8 prior to saving to suppress this warning.\n"
     ]
    },
    {
     "name": "stderr",
     "output_type": "stream",
     "text": [
      "Lossy conversion from float32 to uint8. Range [0, 1]. Convert image to uint8 prior to saving to suppress this warning.\n"
     ]
    },
    {
     "name": "stderr",
     "output_type": "stream",
     "text": [
      "Lossy conversion from float32 to uint8. Range [0, 1]. Convert image to uint8 prior to saving to suppress this warning.\n"
     ]
    },
    {
     "name": "stderr",
     "output_type": "stream",
     "text": [
      "Lossy conversion from float32 to uint8. Range [0, 1]. Convert image to uint8 prior to saving to suppress this warning.\n"
     ]
    },
    {
     "name": "stderr",
     "output_type": "stream",
     "text": [
      "Lossy conversion from float32 to uint8. Range [0, 1]. Convert image to uint8 prior to saving to suppress this warning.\n"
     ]
    },
    {
     "name": "stderr",
     "output_type": "stream",
     "text": [
      "Lossy conversion from float32 to uint8. Range [0, 1]. Convert image to uint8 prior to saving to suppress this warning.\n"
     ]
    },
    {
     "name": "stderr",
     "output_type": "stream",
     "text": [
      "Lossy conversion from float32 to uint8. Range [0, 1]. Convert image to uint8 prior to saving to suppress this warning.\n"
     ]
    },
    {
     "name": "stderr",
     "output_type": "stream",
     "text": [
      "Lossy conversion from float32 to uint8. Range [0, 1]. Convert image to uint8 prior to saving to suppress this warning.\n"
     ]
    },
    {
     "name": "stderr",
     "output_type": "stream",
     "text": [
      "Lossy conversion from float32 to uint8. Range [0, 1]. Convert image to uint8 prior to saving to suppress this warning.\n"
     ]
    },
    {
     "name": "stderr",
     "output_type": "stream",
     "text": [
      "Lossy conversion from float32 to uint8. Range [0, 1]. Convert image to uint8 prior to saving to suppress this warning.\n"
     ]
    },
    {
     "name": "stderr",
     "output_type": "stream",
     "text": [
      "Lossy conversion from float32 to uint8. Range [0, 1]. Convert image to uint8 prior to saving to suppress this warning.\n"
     ]
    },
    {
     "name": "stderr",
     "output_type": "stream",
     "text": [
      "Lossy conversion from float32 to uint8. Range [0, 1]. Convert image to uint8 prior to saving to suppress this warning.\n"
     ]
    },
    {
     "name": "stderr",
     "output_type": "stream",
     "text": [
      "Lossy conversion from float32 to uint8. Range [0, 1]. Convert image to uint8 prior to saving to suppress this warning.\n"
     ]
    },
    {
     "name": "stderr",
     "output_type": "stream",
     "text": [
      "Lossy conversion from float32 to uint8. Range [0, 1]. Convert image to uint8 prior to saving to suppress this warning.\n"
     ]
    },
    {
     "name": "stderr",
     "output_type": "stream",
     "text": [
      "Lossy conversion from float32 to uint8. Range [0, 1]. Convert image to uint8 prior to saving to suppress this warning.\n"
     ]
    },
    {
     "name": "stderr",
     "output_type": "stream",
     "text": [
      "Lossy conversion from float32 to uint8. Range [0, 1]. Convert image to uint8 prior to saving to suppress this warning.\n"
     ]
    },
    {
     "name": "stderr",
     "output_type": "stream",
     "text": [
      "Lossy conversion from float32 to uint8. Range [0, 1]. Convert image to uint8 prior to saving to suppress this warning.\n"
     ]
    },
    {
     "name": "stderr",
     "output_type": "stream",
     "text": [
      "Lossy conversion from float32 to uint8. Range [0, 1]. Convert image to uint8 prior to saving to suppress this warning.\n"
     ]
    },
    {
     "name": "stderr",
     "output_type": "stream",
     "text": [
      "Lossy conversion from float32 to uint8. Range [0, 1]. Convert image to uint8 prior to saving to suppress this warning.\n"
     ]
    },
    {
     "name": "stderr",
     "output_type": "stream",
     "text": [
      "Lossy conversion from float32 to uint8. Range [0, 1]. Convert image to uint8 prior to saving to suppress this warning.\n"
     ]
    },
    {
     "name": "stderr",
     "output_type": "stream",
     "text": [
      "Lossy conversion from float32 to uint8. Range [0, 1]. Convert image to uint8 prior to saving to suppress this warning.\n"
     ]
    },
    {
     "name": "stderr",
     "output_type": "stream",
     "text": [
      "Lossy conversion from float32 to uint8. Range [0, 1]. Convert image to uint8 prior to saving to suppress this warning.\n"
     ]
    },
    {
     "name": "stderr",
     "output_type": "stream",
     "text": [
      "Lossy conversion from float32 to uint8. Range [0, 1]. Convert image to uint8 prior to saving to suppress this warning.\n"
     ]
    },
    {
     "name": "stderr",
     "output_type": "stream",
     "text": [
      "Lossy conversion from float32 to uint8. Range [0, 1]. Convert image to uint8 prior to saving to suppress this warning.\n"
     ]
    },
    {
     "name": "stderr",
     "output_type": "stream",
     "text": [
      "Lossy conversion from float32 to uint8. Range [0, 1]. Convert image to uint8 prior to saving to suppress this warning.\n"
     ]
    },
    {
     "name": "stderr",
     "output_type": "stream",
     "text": [
      "Lossy conversion from float32 to uint8. Range [0, 1]. Convert image to uint8 prior to saving to suppress this warning.\n"
     ]
    },
    {
     "name": "stderr",
     "output_type": "stream",
     "text": [
      "Lossy conversion from float32 to uint8. Range [0, 1]. Convert image to uint8 prior to saving to suppress this warning.\n"
     ]
    },
    {
     "name": "stderr",
     "output_type": "stream",
     "text": [
      "Lossy conversion from float32 to uint8. Range [0, 1]. Convert image to uint8 prior to saving to suppress this warning.\n"
     ]
    },
    {
     "name": "stderr",
     "output_type": "stream",
     "text": [
      "Lossy conversion from float32 to uint8. Range [0, 1]. Convert image to uint8 prior to saving to suppress this warning.\n"
     ]
    },
    {
     "name": "stderr",
     "output_type": "stream",
     "text": [
      "Lossy conversion from float32 to uint8. Range [0, 1]. Convert image to uint8 prior to saving to suppress this warning.\n"
     ]
    },
    {
     "name": "stderr",
     "output_type": "stream",
     "text": [
      "Lossy conversion from float32 to uint8. Range [0, 1]. Convert image to uint8 prior to saving to suppress this warning.\n"
     ]
    },
    {
     "name": "stderr",
     "output_type": "stream",
     "text": [
      "Lossy conversion from float32 to uint8. Range [0, 1]. Convert image to uint8 prior to saving to suppress this warning.\n"
     ]
    },
    {
     "name": "stderr",
     "output_type": "stream",
     "text": [
      "Lossy conversion from float32 to uint8. Range [0, 1]. Convert image to uint8 prior to saving to suppress this warning.\n"
     ]
    },
    {
     "name": "stderr",
     "output_type": "stream",
     "text": [
      "Lossy conversion from float32 to uint8. Range [0, 1]. Convert image to uint8 prior to saving to suppress this warning.\n"
     ]
    },
    {
     "name": "stderr",
     "output_type": "stream",
     "text": [
      "Lossy conversion from float32 to uint8. Range [0, 1]. Convert image to uint8 prior to saving to suppress this warning.\n"
     ]
    },
    {
     "name": "stderr",
     "output_type": "stream",
     "text": [
      "Lossy conversion from float32 to uint8. Range [0, 1]. Convert image to uint8 prior to saving to suppress this warning.\n"
     ]
    },
    {
     "name": "stderr",
     "output_type": "stream",
     "text": [
      "Lossy conversion from float32 to uint8. Range [0, 1]. Convert image to uint8 prior to saving to suppress this warning.\n"
     ]
    },
    {
     "name": "stderr",
     "output_type": "stream",
     "text": [
      "Lossy conversion from float32 to uint8. Range [0, 1]. Convert image to uint8 prior to saving to suppress this warning.\n"
     ]
    },
    {
     "name": "stdout",
     "output_type": "stream",
     "text": [
      "Number of samples: 1348\n",
      "Image dimensions: 62x47\n",
      "Saved 5 images for Ariel Sharon\n",
      "Saved 5 images for Colin Powell\n",
      "Saved 5 images for Donald Rumsfeld\n",
      "Saved 5 images for George W Bush\n",
      "Saved 5 images for Gerhard Schroeder\n",
      "Saved 5 images for Hugo Chavez\n",
      "Saved 5 images for Junichiro Koizumi\n",
      "Saved 5 images for Tony Blair\n",
      "Images saved to lfw_faces\n"
     ]
    }
   ],
   "source": [
    "import numpy as np\n",
    "import os\n",
    "import imageio\n",
    "from sklearn.datasets import fetch_lfw_people\n",
    "\n",
    "# import data about faces from fetch_lfw_people\n",
    "lfw_people = fetch_lfw_people(min_faces_per_person=60)\n",
    "\n",
    "# get the different things needed from the dataset\n",
    "n_samples, h, w = lfw_people.images.shape\n",
    "X = lfw_people.data\n",
    "y = lfw_people.target\n",
    "target_names = lfw_people.target_names\n",
    "\n",
    "print(f\"Number of samples: {n_samples}\")\n",
    "print(f\"Image dimensions: {h}x{w}\")\n",
    "\n",
    "output_dir = 'lfw_faces'\n",
    "os.makedirs(output_dir, exist_ok=True)\n",
    "\n",
    "person_count = {name: 0 for name in target_names}\n",
    "\n",
    "# download five images of each person since deepdface doesn't need much images\n",
    "for i in range(n_samples):\n",
    "    person_name = target_names[y[i]]\n",
    "    if person_count[person_name] < 5:\n",
    "        image = lfw_people.images[i]\n",
    "        person_name_formatted = person_name.replace(\" \", \"_\")\n",
    "        file_name = os.path.join(output_dir, f\"{person_name_formatted}_{person_count[person_name] + 1}.png\")\n",
    "        imageio.imwrite(file_name, image)\n",
    "        person_count[person_name] += 1\n",
    "\n",
    "for name, count in person_count.items():\n",
    "    print(f\"Saved {count} images for {name}\")\n",
    "\n",
    "print(f\"Images saved to {output_dir}\")"
   ]
  },
  {
   "cell_type": "code",
   "execution_count": 7,
   "metadata": {
    "collapsed": false
   },
   "outputs": [
    {
     "data": {
      "image/png": "[encoded data removed]",
      "text/plain": [
       "<Figure size 864x504 with 1 Axes>"
      ]
     },
     "execution_count": 7,
     "metadata": {
      "image/png": {
       "height": 410,
       "width": 302
      },
      "needs_background": "light"
     },
     "output_type": "execute_result"
    }
   ],
   "source": [
    "# show how the image looks like\n",
    "import imageio\n",
    "import matplotlib.pyplot as plt\n",
    "import os\n",
    "\n",
    "output_dir = 'lfw_faces'\n",
    "file_name = 'George_W_Bush_1.png'\n",
    "file_path = os.path.join(output_dir, file_name)\n",
    "\n",
    "if os.path.exists(file_path):\n",
    "    image = imageio.imread(file_path)\n",
    "\n",
    "    plt.imshow(image, cmap='gray')\n",
    "    plt.title(file_name)\n",
    "    plt.axis('off')\n",
    "    plt.show()\n",
    "else:\n",
    "    print(f\"File {file_path} does not exist.\")"
   ]
  },
  {
   "cell_type": "code",
   "execution_count": 8,
   "metadata": {
    "collapsed": false
   },
   "outputs": [
    {
     "data": {
      "image/png": "[encoded data removed]",
      "text/plain": [
       "<Figure size 864x504 with 1 Axes>"
      ]
     },
     "execution_count": 8,
     "metadata": {
      "image/png": {
       "height": 410,
       "width": 302
      },
      "needs_background": "light"
     },
     "output_type": "execute_result"
    }
   ],
   "source": [
    "# show how the image looks like\n",
    "import imageio\n",
    "import matplotlib.pyplot as plt\n",
    "import os\n",
    "\n",
    "output_dir = 'lfw_faces'\n",
    "file_name = 'Ariel_Sharon_1.png'\n",
    "file_path = os.path.join(output_dir, file_name)\n",
    "\n",
    "if os.path.exists(file_path):\n",
    "    image = imageio.imread(file_path)\n",
    "\n",
    "    plt.imshow(image, cmap='gray')\n",
    "    plt.title(file_name)\n",
    "    plt.axis('off')\n",
    "    plt.show()\n",
    "else:\n",
    "    print(f\"File {file_path} does not exist.\")"
   ]
  },
  {
   "cell_type": "code",
   "execution_count": 9,
   "metadata": {
    "collapsed": false
   },
   "outputs": [
    {
     "name": "stdout",
     "output_type": "stream",
     "text": [
      "Facenet\n",
      "{'verified': True, 'distance': 0.24047758689653698, 'threshold': 0.4, 'model': 'Facenet', 'detector_backend': 'opencv', 'similarity_metric': 'cosine', 'facial_areas': {'img1': {'x': 0, 'y': 0, 'w': 47, 'h': 62, 'left_eye': None, 'right_eye': None}, 'img2': {'x': 0, 'y': 0, 'w': 47, 'h': 62, 'left_eye': None, 'right_eye': None}}, 'time': 11.31}\n",
      "----------------------------------------------------------------------------------------------------------------------------------------------------------------------------------\n"
     ]
    },
    {
     "name": "stdout",
     "output_type": "stream",
     "text": [
      "OpenFace\n",
      "{'verified': False, 'distance': 0.31749037937525504, 'threshold': 0.1, 'model': 'OpenFace', 'detector_backend': 'opencv', 'similarity_metric': 'cosine', 'facial_areas': {'img1': {'x': 0, 'y': 0, 'w': 47, 'h': 62, 'left_eye': None, 'right_eye': None}, 'img2': {'x': 0, 'y': 0, 'w': 47, 'h': 62, 'left_eye': None, 'right_eye': None}}, 'time': 3.42}\n",
      "----------------------------------------------------------------------------------------------------------------------------------------------------------------------------------\n"
     ]
    },
    {
     "name": "stdout",
     "output_type": "stream",
     "text": [
      "DeepID\n",
      "{'verified': True, 'distance': 0.011099480649802151, 'threshold': 0.015, 'model': 'DeepID', 'detector_backend': 'opencv', 'similarity_metric': 'cosine', 'facial_areas': {'img1': {'x': 0, 'y': 0, 'w': 47, 'h': 62, 'left_eye': None, 'right_eye': None}, 'img2': {'x': 0, 'y': 0, 'w': 47, 'h': 62, 'left_eye': None, 'right_eye': None}}, 'time': 0.41}\n",
      "----------------------------------------------------------------------------------------------------------------------------------------------------------------------------------\n"
     ]
    },
    {
     "name": "stdout",
     "output_type": "stream",
     "text": [
      "ArcFace\n",
      "{'verified': True, 'distance': 0.3268639903365741, 'threshold': 0.68, 'model': 'ArcFace', 'detector_backend': 'opencv', 'similarity_metric': 'cosine', 'facial_areas': {'img1': {'x': 0, 'y': 0, 'w': 47, 'h': 62, 'left_eye': None, 'right_eye': None}, 'img2': {'x': 0, 'y': 0, 'w': 47, 'h': 62, 'left_eye': None, 'right_eye': None}}, 'time': 8.97}\n",
      "----------------------------------------------------------------------------------------------------------------------------------------------------------------------------------\n"
     ]
    },
    {
     "name": "stdout",
     "output_type": "stream",
     "text": [
      "Dlib\n",
      "{'verified': True, 'distance': 0.05712664371567311, 'threshold': 0.07, 'model': 'Dlib', 'detector_backend': 'opencv', 'similarity_metric': 'cosine', 'facial_areas': {'img1': {'x': 0, 'y': 0, 'w': 47, 'h': 62, 'left_eye': None, 'right_eye': None}, 'img2': {'x': 0, 'y': 0, 'w': 47, 'h': 62, 'left_eye': None, 'right_eye': None}}, 'time': 1.51}\n",
      "----------------------------------------------------------------------------------------------------------------------------------------------------------------------------------\n"
     ]
    },
    {
     "name": "stdout",
     "output_type": "stream",
     "text": [
      "SFace\n",
      "{'verified': True, 'distance': 0.3250752618502659, 'threshold': 0.593, 'model': 'SFace', 'detector_backend': 'opencv', 'similarity_metric': 'cosine', 'facial_areas': {'img1': {'x': 0, 'y': 0, 'w': 47, 'h': 62, 'left_eye': None, 'right_eye': None}, 'img2': {'x': 0, 'y': 0, 'w': 47, 'h': 62, 'left_eye': None, 'right_eye': None}}, 'time': 1.48}\n",
      "----------------------------------------------------------------------------------------------------------------------------------------------------------------------------------\n"
     ]
    }
   ],
   "source": [
    "# use DeepFace to compare two image of the same person to see if it can recognize them\n",
    "import matplotlib.pyplot as plt\n",
    "models =[\"Facenet\", \"OpenFace\", \"DeepID\",\"ArcFace\", \"Dlib\", \"SFace\"]\n",
    "for model in models:\n",
    "    result = DeepFace.verify(img1_path = 'lfw_faces/George_W_Bush_1.png',\n",
    "                             img2_path = 'lfw_faces/George_W_Bush_2.png',\n",
    "                             model_name = model,\n",
    "                             enforce_detection=False)\n",
    "    print(model)\n",
    "    print(result)\n",
    "    print('-'*178)"
   ]
  },
  {
   "cell_type": "code",
   "execution_count": 10,
   "metadata": {
    "collapsed": false
   },
   "outputs": [
    {
     "name": "stdout",
     "output_type": "stream",
     "text": [
      "Facenet\n",
      "{'verified': False, 'distance': 1.0803397715465377, 'threshold': 0.4, 'model': 'Facenet', 'detector_backend': 'opencv', 'similarity_metric': 'cosine', 'facial_areas': {'img1': {'x': 0, 'y': 0, 'w': 47, 'h': 62, 'left_eye': None, 'right_eye': None}, 'img2': {'x': 0, 'y': 0, 'w': 47, 'h': 62, 'left_eye': None, 'right_eye': None}}, 'time': 0.65}\n",
      "----------------------------------------------------------------------------------------------------------------------------------------------------------------------------------\n"
     ]
    },
    {
     "name": "stdout",
     "output_type": "stream",
     "text": [
      "OpenFace\n",
      "{'verified': False, 'distance': 0.38708367333987515, 'threshold': 0.1, 'model': 'OpenFace', 'detector_backend': 'opencv', 'similarity_metric': 'cosine', 'facial_areas': {'img1': {'x': 0, 'y': 0, 'w': 47, 'h': 62, 'left_eye': None, 'right_eye': None}, 'img2': {'x': 0, 'y': 0, 'w': 47, 'h': 62, 'left_eye': None, 'right_eye': None}}, 'time': 0.25}\n",
      "----------------------------------------------------------------------------------------------------------------------------------------------------------------------------------\n",
      "DeepID\n",
      "{'verified': False, 'distance': 0.017219152617802824, 'threshold': 0.015, 'model': 'DeepID', 'detector_backend': 'opencv', 'similarity_metric': 'cosine', 'facial_areas': {'img1': {'x': 0, 'y': 0, 'w': 47, 'h': 62, 'left_eye': None, 'right_eye': None}, 'img2': {'x': 0, 'y': 0, 'w': 47, 'h': 62, 'left_eye': None, 'right_eye': None}}, 'time': 0.02}\n",
      "----------------------------------------------------------------------------------------------------------------------------------------------------------------------------------\n"
     ]
    },
    {
     "name": "stdout",
     "output_type": "stream",
     "text": [
      "ArcFace\n",
      "{'verified': False, 'distance': 0.8845515874594512, 'threshold': 0.68, 'model': 'ArcFace', 'detector_backend': 'opencv', 'similarity_metric': 'cosine', 'facial_areas': {'img1': {'x': 0, 'y': 0, 'w': 47, 'h': 62, 'left_eye': None, 'right_eye': None}, 'img2': {'x': 0, 'y': 0, 'w': 47, 'h': 62, 'left_eye': None, 'right_eye': None}}, 'time': 0.67}\n",
      "----------------------------------------------------------------------------------------------------------------------------------------------------------------------------------\n"
     ]
    },
    {
     "name": "stdout",
     "output_type": "stream",
     "text": [
      "Dlib\n",
      "{'verified': False, 'distance': 0.15113865180947716, 'threshold': 0.07, 'model': 'Dlib', 'detector_backend': 'opencv', 'similarity_metric': 'cosine', 'facial_areas': {'img1': {'x': 0, 'y': 0, 'w': 47, 'h': 62, 'left_eye': None, 'right_eye': None}, 'img2': {'x': 0, 'y': 0, 'w': 47, 'h': 62, 'left_eye': None, 'right_eye': None}}, 'time': 0.22}\n",
      "----------------------------------------------------------------------------------------------------------------------------------------------------------------------------------\n"
     ]
    },
    {
     "name": "stdout",
     "output_type": "stream",
     "text": [
      "SFace\n",
      "{'verified': False, 'distance': 0.640513852996041, 'threshold': 0.593, 'model': 'SFace', 'detector_backend': 'opencv', 'similarity_metric': 'cosine', 'facial_areas': {'img1': {'x': 0, 'y': 0, 'w': 47, 'h': 62, 'left_eye': None, 'right_eye': None}, 'img2': {'x': 0, 'y': 0, 'w': 47, 'h': 62, 'left_eye': None, 'right_eye': None}}, 'time': 0.21}\n",
      "----------------------------------------------------------------------------------------------------------------------------------------------------------------------------------\n"
     ]
    }
   ],
   "source": [
    "# use DeepFace to compare two image of the different person to see if it can recognize them\n",
    "import matplotlib.pyplot as plt\n",
    "models =[\"Facenet\", \"OpenFace\", \"DeepID\",\"ArcFace\", \"Dlib\", \"SFace\"]\n",
    "for model in models:\n",
    "    result = DeepFace.verify(img1_path = 'lfw_faces/George_W_Bush_1.png',\n",
    "                             img2_path = 'lfw_faces/Ariel_Sharon_1.png',\n",
    "                             model_name = model,\n",
    "                             enforce_detection=False)\n",
    "    print(model)\n",
    "    print(result)\n",
    "    print('-'*178)"
   ]
  },
  {
   "cell_type": "code",
   "execution_count": 0,
   "metadata": {
    "collapsed": false
   },
   "outputs": [
   ],
   "source": [
    "# could have analyze the expression as well, but it didn't work on mine\n",
    "# result = DeepFace.analyze(img_path = 'lfw_faces/George_W_Bush_1.png')"
   ]
  }
 ],
 "metadata": {
  "kernelspec": {
   "argv": [
    "/usr/bin/python3",
    "-m",
    "ipykernel",
    "--HistoryManager.enabled=False",
    "--matplotlib=inline",
    "-c",
    "%config InlineBackend.figure_formats = set(['retina'])\nimport matplotlib; matplotlib.rcParams['figure.figsize'] = (12, 7)",
    "-f",
    "{connection_file}"
   ],
   "display_name": "Python 3 (system-wide)",
   "env": {
   },
   "language": "python",
   "metadata": {
    "cocalc": {
     "description": "Python 3 programming language",
     "priority": 100,
     "url": "https://www.python.org/"
    }
   },
   "name": "python3",
   "resource_dir": "/ext/jupyter/kernels/python3"
  },
  "language_info": {
   "codemirror_mode": {
    "name": "ipython",
    "version": 3
   },
   "file_extension": ".py",
   "mimetype": "text/x-python",
   "name": "python",
   "nbconvert_exporter": "python",
   "pygments_lexer": "ipython3",
   "version": "3.10.12"
  }
 },
 "nbformat": 4,
 "nbformat_minor": 4
}